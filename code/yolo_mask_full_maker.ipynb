{
 "cells": [
  {
   "cell_type": "code",
   "execution_count": 1,
   "id": "112cb2cb-a051-4be0-9683-f112596841e0",
   "metadata": {},
   "outputs": [],
   "source": [
    "from ultralytics import YOLO\n",
    "import cv2\n",
    "import numpy as np\n",
    "import os\n",
    "\n",
    "model = YOLO('./Models/best_full.pt')"
   ]
  },
  {
   "cell_type": "code",
   "execution_count": null,
   "id": "a0099b23-c81c-4cc4-be51-64654bff41e3",
   "metadata": {},
   "outputs": [
    {
     "name": "stderr",
     "output_type": "stream",
     "text": [
      " 73%|███████▎  | 72/98 [06:59<02:33,  5.91s/it]"
     ]
    }
   ],
   "source": [
    "import os\n",
    "from tqdm import tqdm\n",
    "import pickle\n",
    "\n",
    "image_folder = './data/train'\n",
    "\n",
    "files_mask = {}\n",
    "files_mask['full'] = {}\n",
    "\n",
    "\n",
    "for img_path in tqdm(os.listdir(image_folder)):\n",
    "    \n",
    "    for image_name in os.listdir(f\"{image_folder}/{img_path}\"):\n",
    "        \n",
    "        image_path = os.path.join(image_folder, img_path, image_name)\n",
    "        \n",
    "        image = cv2.imread(image_path)\n",
    "        \n",
    "        results = model(image, verbose = False)\n",
    "        \n",
    "        if results[0].masks is not None:\n",
    "            masks = results[0].masks.data.cpu().numpy()\n",
    "\n",
    "            files_mask['full'][image_name[:-4]] = masks\n",
    "\n",
    "pickle.dump(files_mask, open(\"E:/ZINDI/ROOT_VOLUME/yolo_mask_full.pkl\", \"wb\"))"
   ]
  },
  {
   "cell_type": "code",
   "execution_count": 9,
   "id": "6f69e4a5-84a3-4d52-9586-4b5a72dec7ce",
   "metadata": {},
   "outputs": [
    {
     "data": {
      "text/plain": [
       "dict_keys(['.png'])"
      ]
     },
     "execution_count": 9,
     "metadata": {},
     "output_type": "execute_result"
    }
   ],
   "source": [
    "files_mask['full'].keys()"
   ]
  },
  {
   "cell_type": "code",
   "execution_count": 11,
   "id": "22d045c8-bea4-4d3e-8530-4ba6050788ce",
   "metadata": {},
   "outputs": [
    {
     "data": {
      "text/plain": [
       "'Zplb9xaxis_R_082'"
      ]
     },
     "execution_count": 11,
     "metadata": {},
     "output_type": "execute_result"
    }
   ],
   "source": [
    "image_name[:-4]"
   ]
  },
  {
   "cell_type": "code",
   "execution_count": null,
   "id": "69800557-38e4-41d7-9e2c-b753f1549dd8",
   "metadata": {},
   "outputs": [],
   "source": []
  }
 ],
 "metadata": {
  "kernelspec": {
   "display_name": "Python 3 (ipykernel)",
   "language": "python",
   "name": "python3"
  },
  "language_info": {
   "codemirror_mode": {
    "name": "ipython",
    "version": 3
   },
   "file_extension": ".py",
   "mimetype": "text/x-python",
   "name": "python",
   "nbconvert_exporter": "python",
   "pygments_lexer": "ipython3",
   "version": "3.11.7"
  }
 },
 "nbformat": 4,
 "nbformat_minor": 5
}
